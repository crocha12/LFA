{
  "nbformat": 4,
  "nbformat_minor": 0,
  "metadata": {
    "colab": {
      "provenance": [],
      "authorship_tag": "ABX9TyP/6gklTYo8RkyLOqB4QMIH",
      "include_colab_link": true
    },
    "kernelspec": {
      "name": "python3",
      "display_name": "Python 3"
    },
    "language_info": {
      "name": "python"
    }
  },
  "cells": [
    {
      "cell_type": "markdown",
      "metadata": {
        "id": "view-in-github",
        "colab_type": "text"
      },
      "source": [
        "<a href=\"https://colab.research.google.com/github/crocha12/LFA/blob/main/TP2_CamiloRocha.ipynb\" target=\"_parent\"><img src=\"https://colab.research.google.com/assets/colab-badge.svg\" alt=\"Open In Colab\"/></a>"
      ]
    },
    {
      "cell_type": "markdown",
      "source": [
        "# TP2"
      ],
      "metadata": {
        "id": "QBeBiiQj8Lj_"
      }
    },
    {
      "cell_type": "code",
      "source": [
        "class State:\n",
        "  def __init__(self, code, isFinal):\n",
        "    self.code = code\n",
        "    self.isFinal = isFinal\n",
        "    self.transitions = dict()\n",
        "\n",
        "  def symbolExists(self, symbol):\n",
        "    return symbol in self.transitions.keys()\n",
        "\n",
        "  def addTransition(self, symbol, nextState):\n",
        "    if(self.symbolExists(symbol)):\n",
        "      self.transitions[symbol].append(nextState)\n",
        "    else:\n",
        "      self.transitions[symbol] = [nextState] "
      ],
      "metadata": {
        "id": "oVaF0xv80kbZ"
      },
      "execution_count": 5,
      "outputs": []
    },
    {
      "cell_type": "code",
      "source": [
        "def main():\n",
        "  statesList = input().split(sep=' ')\n",
        "  alphabet = input().split(sep=' ')\n",
        "  n = int(input())\n",
        "  transitions = []\n",
        "  for i in range(n):\n",
        "    t = input().split(sep=' ')\n",
        "    transitions.append(t)\n",
        "  initialState = input()\n",
        "  endStates = input().split(' ')\n",
        "  states = []\n",
        "  for state in statesList:\n",
        "    s = State(state, state in endStates)\n",
        "    states.append(s)\n",
        "  for state in states:\n",
        "    t = [x for x in transitions if x[0] == state.code]\n",
        "    for transition in t:\n",
        "      nextState = [x for x in states if x.code == transition[2]][0]\n",
        "      state.addTransition(transition[1], nextState)\n",
        "  initialState = [x for x in states if x.code == initialState][0]\n",
        "  wordsList = input().split(sep=' ')\n",
        "\n",
        "  for w in wordsList:\n",
        "    palavra = list(w)\n",
        "    E = [initialState]\n",
        "    for p in palavra:\n",
        "      Next = []\n",
        "      for e in E:\n",
        "        if not e.symbolExists(p):\n",
        "          continue\n",
        "        for Ne in e.transitions[p]:\n",
        "          Next.append(Ne)\n",
        "      E = Next\n",
        "      if E == []:\n",
        "        break\n",
        "    status = 'N'    \n",
        "    for e in E:\n",
        "      if e.isFinal:\n",
        "        status = 'S'\n",
        "    print(status)\n",
        "main()"
      ],
      "metadata": {
        "id": "OkcyWy6F6r1Z",
        "outputId": "73c35c53-0af2-46f4-e3bb-369b4393dd47",
        "colab": {
          "base_uri": "https://localhost:8080/"
        }
      },
      "execution_count": 9,
      "outputs": [
        {
          "output_type": "stream",
          "name": "stdout",
          "text": [
            "0 1\n",
            "a b\n",
            "3\n",
            "0 a 0\n",
            "0 b 0\n",
            "0 b 1\n",
            "0\n",
            "1\n",
            "a b aba abb\n",
            "N\n",
            "S\n",
            "N\n",
            "S\n"
          ]
        }
      ]
    },
    {
      "cell_type": "code",
      "source": [],
      "metadata": {
        "id": "xBb9zT0f7cvm"
      },
      "execution_count": null,
      "outputs": []
    }
  ]
}