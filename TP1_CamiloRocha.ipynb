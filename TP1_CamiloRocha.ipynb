{
  "nbformat": 4,
  "nbformat_minor": 0,
  "metadata": {
    "colab": {
      "provenance": [],
      "collapsed_sections": [],
      "authorship_tag": "ABX9TyMaiDCleJQOmFq+slELb0yQ",
      "include_colab_link": true
    },
    "kernelspec": {
      "name": "python3",
      "display_name": "Python 3"
    },
    "language_info": {
      "name": "python"
    }
  },
  "cells": [
    {
      "cell_type": "markdown",
      "metadata": {
        "id": "view-in-github",
        "colab_type": "text"
      },
      "source": [
        "<a href=\"https://colab.research.google.com/github/crocha12/LFA/blob/main/TP1_CamiloRocha.ipynb\" target=\"_parent\"><img src=\"https://colab.research.google.com/assets/colab-badge.svg\" alt=\"Open In Colab\"/></a>"
      ]
    },
    {
      "cell_type": "code",
      "execution_count": null,
      "metadata": {
        "id": "lW2By6kJaDsq"
      },
      "outputs": [],
      "source": [
        "#inputs\n",
        "[inp, out] = input().split(sep=' ')\n",
        "alphabet = input().split(sep=' ') \n",
        "n = int(input())\n",
        "transitions = []\n",
        "for i in range(n):\n",
        "  t = input().split(sep=' ')\n",
        "  transitions.append(t)\n",
        "initialState = input()\n",
        "endStates = input().split(' ')\n",
        "wordsList = input().split(sep=' ')"
      ]
    },
    {
      "cell_type": "code",
      "source": [
        "#Caso de teste 1\n",
        "[inp, out] = ['0', '1']\n",
        "alphabet = ['a', 'b']\n",
        "n = 3\n",
        "transitions = [['0', 'a', '1'], ['1', 'a', '1'], ['1', 'b', '1']]\n",
        "initialState = '0'\n",
        "endState = ['1']\n",
        "wordsList = ['a', 'b', 'aba', 'abb', 'b']\n",
        "print(inp, out, n, alphabet, transitions, initialState, endState, wordsList)"
      ],
      "metadata": {
        "colab": {
          "base_uri": "https://localhost:8080/"
        },
        "id": "90NQDTVJim0u",
        "outputId": "80ef84ea-4060-4f98-fbe4-855082e368d3"
      },
      "execution_count": 24,
      "outputs": [
        {
          "output_type": "stream",
          "name": "stdout",
          "text": [
            "0 1 3 ['a', 'b'] [['0', 'a', '1'], ['1', 'a', '1'], ['1', 'b', '1']] 0 ['1'] ['a', 'b', 'aba', 'abb', 'b']\n"
          ]
        }
      ]
    },
    {
      "cell_type": "code",
      "source": [
        "while wordsList != []:\n",
        "  e = initialState\n",
        "  s = list(wordsList.pop(0))\n",
        "  while s != []:\n",
        "    p = s.pop()\n",
        "    for i in transitions:\n",
        "      if e == i[0] and p == i[1]:\n",
        "        e = i[2]\n",
        "        break\n",
        "  print('S' if e in endState else 'N' )\n",
        "\n",
        "\n"
      ],
      "metadata": {
        "colab": {
          "base_uri": "https://localhost:8080/"
        },
        "id": "0wB9iQajljrk",
        "outputId": "a2b6c212-0433-4ead-9a83-bffd97a654ff"
      },
      "execution_count": 25,
      "outputs": [
        {
          "output_type": "stream",
          "name": "stdout",
          "text": [
            "S\n",
            "N\n",
            "S\n",
            "S\n",
            "N\n"
          ]
        }
      ]
    },
    {
      "cell_type": "code",
      "source": [],
      "metadata": {
        "id": "8YSP_qSDA2Yd"
      },
      "execution_count": null,
      "outputs": []
    }
  ]
}