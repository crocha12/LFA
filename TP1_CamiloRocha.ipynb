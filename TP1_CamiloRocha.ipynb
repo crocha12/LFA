{
  "nbformat": 4,
  "nbformat_minor": 0,
  "metadata": {
    "colab": {
      "provenance": [],
      "collapsed_sections": [],
      "authorship_tag": "ABX9TyPXeqyId4a2/awg8yfG+OIx",
      "include_colab_link": true
    },
    "kernelspec": {
      "name": "python3",
      "display_name": "Python 3"
    },
    "language_info": {
      "name": "python"
    }
  },
  "cells": [
    {
      "cell_type": "markdown",
      "metadata": {
        "id": "view-in-github",
        "colab_type": "text"
      },
      "source": [
        "<a href=\"https://colab.research.google.com/github/crocha12/LFA/blob/main/TP1_CamiloRocha.ipynb\" target=\"_parent\"><img src=\"https://colab.research.google.com/assets/colab-badge.svg\" alt=\"Open In Colab\"/></a>"
      ]
    },
    {
      "cell_type": "code",
      "execution_count": null,
      "metadata": {
        "id": "lW2By6kJaDsq"
      },
      "outputs": [],
      "source": [
        "#inputs\n",
        "[inp, out] = input().split(sep=' ')\n",
        "alphabet = input().split(sep=' ') \n",
        "n = int(input())\n",
        "transitions = []\n",
        "for i in range(n):\n",
        "  t = input().split(sep=' ')\n",
        "  transitions.append(t)\n",
        "initialState = input()\n",
        "endState = input()\n",
        "wordsList = input().split(sep=' ')"
      ]
    },
    {
      "cell_type": "code",
      "source": [
        "#Caso de teste 1\n",
        "[inp, out] = ['0', '1']\n",
        "alphabet = ['a', 'b']\n",
        "n = 3\n",
        "transitions = [['0', 'a', '1'], ['1', 'a', '1'], ['1', 'b', '1']]\n",
        "initialState = '0'\n",
        "endState = '1'\n",
        "wordsList = ['a', 'b', 'aba', 'abb', 'b']\n",
        "print(inp, out, n, alphabet, transitions, initialState, endState, wordsList)"
      ],
      "metadata": {
        "id": "90NQDTVJim0u",
        "outputId": "7d992738-0b37-4f16-f11f-e67a888d0405",
        "colab": {
          "base_uri": "https://localhost:8080/"
        }
      },
      "execution_count": 11,
      "outputs": [
        {
          "output_type": "stream",
          "name": "stdout",
          "text": [
            "0 1 3 ['a', 'b'] [['0', 'a', '1'], ['1', 'a', '1'], ['1', 'b', '1']] 0 1 ['a', 'b', 'aba', 'abb', 'b']\n"
          ]
        }
      ]
    },
    {
      "cell_type": "code",
      "source": [
        "#for i in wordsList:\n",
        "#  e = initialState\n",
        "#  for j in i:\n",
        "#    e = \n",
        "  \n"
      ],
      "metadata": {
        "id": "0wB9iQajljrk"
      },
      "execution_count": null,
      "outputs": []
    }
  ]
}