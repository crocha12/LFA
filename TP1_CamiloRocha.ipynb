{
  "nbformat": 4,
  "nbformat_minor": 0,
  "metadata": {
    "colab": {
      "provenance": [],
      "collapsed_sections": [],
      "authorship_tag": "ABX9TyMySJFwYO+Ns5WBEZJfqXPr",
      "include_colab_link": true
    },
    "kernelspec": {
      "name": "python3",
      "display_name": "Python 3"
    },
    "language_info": {
      "name": "python"
    }
  },
  "cells": [
    {
      "cell_type": "markdown",
      "metadata": {
        "id": "view-in-github",
        "colab_type": "text"
      },
      "source": [
        "<a href=\"https://colab.research.google.com/github/crocha12/LFA/blob/main/TP1_CamiloRocha.ipynb\" target=\"_parent\"><img src=\"https://colab.research.google.com/assets/colab-badge.svg\" alt=\"Open In Colab\"/></a>"
      ]
    },
    {
      "cell_type": "code",
      "source": [
        "def main():\n",
        "  statesList = input().split(sep=' ')\n",
        "  alphabet = input().split(sep=' ') \n",
        "  states = dict()\n",
        "  for state in statesList:\n",
        "    states[state] = {}\n",
        "    for symbol in alphabet:\n",
        "      states[state][symbol] = 'erro'\n",
        "  n = int(input())\n",
        "  for i in range(n):\n",
        "    t = input().split(sep=' ')\n",
        "    states[t[0]][t[1]] = t[2]\n",
        "  initialState = input()\n",
        "  endStates = input().split(' ')\n",
        "  wordsList = input().split(sep=' ')\n",
        "\n",
        "  #algoritmo\n",
        "\n",
        "  for w in wordsList:\n",
        "    e = initialState\n",
        "    palavra = list(w)\n",
        "    for p in palavra:\n",
        "      e = states[e][p]\n",
        "      if(e == 'erro'):\n",
        "        break\n",
        "    print('S' if e in endStates else 'N' )\n",
        "main()"
      ],
      "metadata": {
        "colab": {
          "base_uri": "https://localhost:8080/"
        },
        "id": "0wB9iQajljrk",
        "outputId": "25847820-93c2-4cfd-ef7a-b0082cae0490"
      },
      "execution_count": 2,
      "outputs": [
        {
          "output_type": "stream",
          "name": "stdout",
          "text": [
            "0 1\n",
            "a b\n",
            "3\n",
            "0 a 1\n",
            "1 a 1\n",
            "1 b 1\n",
            "0\n",
            "1\n",
            "a b bba abb abababa\n",
            "S\n",
            "N\n",
            "N\n",
            "S\n",
            "S\n"
          ]
        }
      ]
    }
  ]
}