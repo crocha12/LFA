{
  "nbformat": 4,
  "nbformat_minor": 0,
  "metadata": {
    "colab": {
      "provenance": [],
      "authorship_tag": "ABX9TyPWV2OkTPlW8gJRbsGrNY/T",
      "include_colab_link": true
    },
    "kernelspec": {
      "name": "python3",
      "display_name": "Python 3"
    },
    "language_info": {
      "name": "python"
    }
  },
  "cells": [
    {
      "cell_type": "markdown",
      "metadata": {
        "id": "view-in-github",
        "colab_type": "text"
      },
      "source": [
        "<a href=\"https://colab.research.google.com/github/crocha12/LFA/blob/main/TP3/relatorioTP3.ipynb\" target=\"_parent\"><img src=\"https://colab.research.google.com/assets/colab-badge.svg\" alt=\"Open In Colab\"/></a>"
      ]
    },
    {
      "cell_type": "markdown",
      "source": [
        "# **Relatorio Tecnico TP3**"
      ],
      "metadata": {
        "id": "7VJgQo28JsoT"
      }
    },
    {
      "cell_type": "markdown",
      "source": [
        "## Introdução"
      ],
      "metadata": {
        "id": "L-oBXwrIJ4d6"
      }
    },
    {
      "cell_type": "markdown",
      "source": [
        "tesasdas"
      ],
      "metadata": {
        "id": "1gevv50PKP91"
      }
    },
    {
      "cell_type": "markdown",
      "source": [
        "## Projeto e Implementação do Algoritmo"
      ],
      "metadata": {
        "id": "EOEa6296J1NV"
      }
    },
    {
      "cell_type": "markdown",
      "source": [
        "tat"
      ],
      "metadata": {
        "id": "JYz5FsEdKTAO"
      }
    },
    {
      "cell_type": "markdown",
      "source": [
        "## Metodologia:"
      ],
      "metadata": {
        "id": "A5Jnm851KCry"
      }
    },
    {
      "cell_type": "markdown",
      "source": [
        "tat"
      ],
      "metadata": {
        "id": "_o7aAf2WKUe4"
      }
    },
    {
      "cell_type": "markdown",
      "source": [
        "## Resultados e Conclusões:"
      ],
      "metadata": {
        "id": "cGlEpq7LKGBq"
      }
    },
    {
      "cell_type": "markdown",
      "source": [
        "tata"
      ],
      "metadata": {
        "id": "yEhaDFtQKWK1"
      }
    }
  ]
}