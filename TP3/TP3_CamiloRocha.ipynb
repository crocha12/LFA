{
  "nbformat": 4,
  "nbformat_minor": 0,
  "metadata": {
    "colab": {
      "provenance": [],
      "authorship_tag": "ABX9TyNCSslFLQkBAmfrY6vSxMXD",
      "include_colab_link": true
    },
    "kernelspec": {
      "name": "python3",
      "display_name": "Python 3"
    },
    "language_info": {
      "name": "python"
    }
  },
  "cells": [
    {
      "cell_type": "markdown",
      "metadata": {
        "id": "view-in-github",
        "colab_type": "text"
      },
      "source": [
        "<a href=\"https://colab.research.google.com/github/crocha12/LFA/blob/main/TP3/TP3_CamiloRocha.ipynb\" target=\"_parent\"><img src=\"https://colab.research.google.com/assets/colab-badge.svg\" alt=\"Open In Colab\"/></a>"
      ]
    },
    {
      "cell_type": "markdown",
      "source": [
        "# TP3"
      ],
      "metadata": {
        "id": "QBeBiiQj8Lj_"
      }
    },
    {
      "cell_type": "markdown",
      "source": [
        "## Unico Arquivo"
      ],
      "metadata": {
        "id": "YpMAsK-9PehR"
      }
    },
    {
      "cell_type": "code",
      "source": [
        "class State:\n",
        "  def __init__(self, code, isFinal):\n",
        "    self.code = code\n",
        "    self.isFinal = isFinal\n",
        "    self.transitions = dict()\n",
        "\n",
        "  def symbolExists(self, symbol):\n",
        "    return symbol in self.transitions.keys()\n",
        "\n",
        "  def addTransition(self, symbol, nextState):\n",
        "    if(self.symbolExists(symbol)):\n",
        "      self.transitions[symbol].append(nextState)\n",
        "    else:\n",
        "      self.transitions[symbol] = [nextState] \n",
        "\n",
        "def main():\n",
        "  statesList = input().split(sep=' ')\n",
        "  alphabet = input().split(sep=' ')\n",
        "  n = int(input())\n",
        "  transitions = []\n",
        "\n",
        "  for i in range(n):\n",
        "    t = input().split(sep=' ')\n",
        "    transitions.append(t)\n",
        "\n",
        "  initialState = input()\n",
        "  endStates = input().split(' ')\n",
        "  states = []\n",
        "\n",
        "  for state in statesList:\n",
        "    s = State(state, state in endStates)\n",
        "    states.append(s)\n",
        "\n",
        "  for state in states:\n",
        "    t = [x for x in transitions if x[0] == state.code]\n",
        "    for transition in t:\n",
        "      nextState = [x for x in states if x.code == transition[2]][0]\n",
        "      state.addTransition(transition[1], nextState)\n",
        "\n",
        "  initialState = [x for x in states if x.code == initialState][0]\n",
        "  wordsList = input().split(sep=' ')\n",
        "\n",
        "  for w in wordsList:\n",
        "    palavra = list(w)\n",
        "    E = [initialState]\n",
        "    for p in palavra:\n",
        "      if(not p == '*'):\n",
        "        Next = []\n",
        "        for e in E:\n",
        "          if not e.symbolExists(p):\n",
        "            continue\n",
        "          for Ne in e.transitions[p]:\n",
        "            Next.append(Ne)\n",
        "        E = Next\n",
        "        if E == []:\n",
        "          break\n",
        "    status = 'N'    \n",
        "    for e in E:\n",
        "      if e.isFinal:\n",
        "        status = 'S'\n",
        "    print(status)\n",
        "main()"
      ],
      "metadata": {
        "id": "OkcyWy6F6r1Z"
      },
      "execution_count": null,
      "outputs": []
    },
    {
      "cell_type": "markdown",
      "source": [
        "## Separado"
      ],
      "metadata": {
        "id": "wlpdCg6-Pk6k"
      }
    },
    {
      "cell_type": "code",
      "source": [
        "class State:\n",
        "  def __init__(self, code, isFinal):\n",
        "    self.code = code\n",
        "    self.isFinal = isFinal\n",
        "    self.transitions = dict()\n",
        "\n",
        "  def symbolExists(self, symbol):\n",
        "    return symbol in self.transitions.keys()\n",
        "\n",
        "  def addTransition(self, symbol, nextState):\n",
        "    if(self.symbolExists(symbol)):\n",
        "      self.transitions[symbol].append(nextState)\n",
        "    else:\n",
        "      self.transitions[symbol] = [nextState] "
      ],
      "metadata": {
        "id": "su7vb2Q5L6yR"
      },
      "execution_count": null,
      "outputs": []
    },
    {
      "cell_type": "code",
      "source": [
        "def main():\n",
        "  statesList = ['0', '1']\n",
        "  alphabet = ['a', 'b']\n",
        "  stackAlphabet = ['A']\n",
        "  n = 3\n",
        "  transitions = []\n",
        "\n",
        "  t = ['0', 'a', '*', '0', 'A']\n",
        "  transitions.append(t)\n",
        "  t = ['0', '*', '*', '1' '*']\n",
        "  transitions.append(t)\n",
        "  t = ['1', 'b', 'A', '1', '*']\n",
        "  transitions.append(t)\n",
        "\n",
        "  initialState = '0'\n",
        "  endStates = ['1']\n",
        "  states = []\n",
        "\n",
        "  for state in statesList:\n",
        "    s = State(state, state in endStates)\n",
        "    states.append(s)\n",
        "\n",
        "  for state in states:\n",
        "    t = [x for x in transitions if x[0] == state.code]\n",
        "    for transition in t:\n",
        "      nextState = [x for x in states if x.code == transition[2]][0]\n",
        "      state.addTransition(transition[1], nextState)\n",
        "\n",
        "  initialState = [x for x in states if x.code == initialState][0]\n",
        "  wordsList = ['*', 'ab', 'ba', 'abb', 'aab']\n",
        "\n",
        "  for w in wordsList:\n",
        "    palavra = list(w)\n",
        "    E = [initialState]\n",
        "    for p in palavra:\n",
        "      if(not p == '*'):\n",
        "        Next = []\n",
        "        for e in E:\n",
        "          if not e.symbolExists(p):\n",
        "            continue\n",
        "          for Ne in e.transitions[p]:\n",
        "            Next.append(Ne)\n",
        "        E = Next\n",
        "        if E == []:\n",
        "          break\n",
        "    status = 'N'    \n",
        "    for e in E:\n",
        "      if e.isFinal:\n",
        "        status = 'S'\n",
        "    print(status)\n",
        "main()"
      ],
      "metadata": {
        "id": "xBb9zT0f7cvm",
        "outputId": "f9b74eed-baa0-477e-d3a0-f91c825e720e",
        "colab": {
          "base_uri": "https://localhost:8080/"
        }
      },
      "execution_count": null,
      "outputs": [
        {
          "output_type": "stream",
          "name": "stdout",
          "text": [
            "N\n",
            "S\n",
            "N\n",
            "S\n"
          ]
        }
      ]
    },
    {
      "cell_type": "code",
      "source": [],
      "metadata": {
        "id": "OAUvlUHeLgzq"
      },
      "execution_count": null,
      "outputs": []
    }
  ]
}