{
  "nbformat": 4,
  "nbformat_minor": 0,
  "metadata": {
    "colab": {
      "provenance": [],
      "collapsed_sections": [],
      "authorship_tag": "ABX9TyMBMvMiDidfgHjBFnxj3beF",
      "include_colab_link": true
    },
    "kernelspec": {
      "name": "python3",
      "display_name": "Python 3"
    },
    "language_info": {
      "name": "python"
    }
  },
  "cells": [
    {
      "cell_type": "markdown",
      "metadata": {
        "id": "view-in-github",
        "colab_type": "text"
      },
      "source": [
        "<a href=\"https://colab.research.google.com/github/crocha12/LFA/blob/main/TP1_CamiloRocha.ipynb\" target=\"_parent\"><img src=\"https://colab.research.google.com/assets/colab-badge.svg\" alt=\"Open In Colab\"/></a>"
      ]
    },
    {
      "cell_type": "markdown",
      "source": [
        "# Versão antiga"
      ],
      "metadata": {
        "id": "VyPHmqIn8OOC"
      }
    },
    {
      "cell_type": "code",
      "source": [
        "def main():\n",
        "  statesList = input().split(sep=' ')\n",
        "  alphabet = input().split(sep=' ') \n",
        "  states = dict()\n",
        "  for state in statesList:\n",
        "    states[state] = {}\n",
        "    for symbol in alphabet:\n",
        "      states[state][symbol] = 'erro'\n",
        "  n = int(input())\n",
        "  for i in range(n):\n",
        "    t = input().split(sep=' ')\n",
        "    states[t[0]][t[1]] = t[2]\n",
        "  initialState = input()\n",
        "  endStates = input().split(' ')\n",
        "  wordsList = input().split(sep=' ')\n",
        "\n",
        "  #algoritmo\n",
        "\n",
        "  for w in wordsList:\n",
        "    e = initialState\n",
        "    palavra = list(w)\n",
        "    for p in palavra:\n",
        "      e = states[e][p]\n",
        "      if(e == 'erro'):\n",
        "        break\n",
        "    print('S' if e in endStates else 'N' )\n",
        "main()"
      ],
      "metadata": {
        "id": "0wB9iQajljrk"
      },
      "execution_count": null,
      "outputs": []
    },
    {
      "cell_type": "markdown",
      "source": [
        "# Nova Versão"
      ],
      "metadata": {
        "id": "QBeBiiQj8Lj_"
      }
    },
    {
      "cell_type": "code",
      "source": [
        "class State:\n",
        "  def __init__(self, code, isFinal):\n",
        "    self.code = code\n",
        "    self.isFinal = isFinal\n",
        "    self.transitions = dict()\n",
        "\n",
        "  def symbolExists(self, symbol):\n",
        "    return symbol in self.transitions.keys()\n",
        "\n",
        "  def addTransition(self, symbol, nextState):\n",
        "    if(self.symbolExists(symbol)):\n",
        "      self.transitions[symbol].append(nextState)\n",
        "    else:\n",
        "      self.transitions[symbol] = [nextState] "
      ],
      "metadata": {
        "id": "oVaF0xv80kbZ"
      },
      "execution_count": 2,
      "outputs": []
    },
    {
      "cell_type": "code",
      "source": [
        "def main():\n",
        "  statesList = input().split(sep=' ')\n",
        "  alphabet = input().split(sep=' ')\n",
        "  n = int(input())\n",
        "  transitions = []\n",
        "  for i in range(n):\n",
        "    t = input().split(sep=' ')\n",
        "    transitions.append(t)\n",
        "  initialState = input()\n",
        "  endStates = input().split(' ')\n",
        "  states = []\n",
        "  for state in statesList:\n",
        "    s = State(state, state in endStates)\n",
        "    states.append(s)\n",
        "  for state in states:\n",
        "    t = [x for x in transitions if x[0] == state.code]\n",
        "    for transition in t:\n",
        "      nextState = [x for x in states if x.code == transition[2]][0]\n",
        "      state.addTransition(transition[1], nextState)\n",
        "  initialState = [x for x in states if x.code == initialState][0]\n",
        "  wordsList = input().split(sep=' ')\n",
        "\n",
        "  for w in wordsList:\n",
        "    e = initialState\n",
        "    palavra = list(w)\n",
        "    for p in palavra:\n",
        "      if(not e.symbolExists(p)):\n",
        "        break\n",
        "      e = e.transitions[p][0]\n",
        "    print('S' if e.isFinal else 'N' )\n",
        "\n",
        "main()"
      ],
      "metadata": {
        "id": "OkcyWy6F6r1Z",
        "outputId": "fd378684-66b3-4ff0-83e2-c03345b715b0",
        "colab": {
          "base_uri": "https://localhost:8080/"
        }
      },
      "execution_count": 3,
      "outputs": [
        {
          "output_type": "stream",
          "name": "stdout",
          "text": [
            "0 1\n",
            "a b\n",
            "3\n",
            "0 a 1\n",
            "1 a 1\n",
            "1 b 1\n",
            "0\n",
            "1\n",
            "a b aba abb b\n",
            "S\n",
            "N\n",
            "S\n",
            "S\n",
            "N\n"
          ]
        }
      ]
    },
    {
      "cell_type": "code",
      "source": [],
      "metadata": {
        "id": "xBb9zT0f7cvm"
      },
      "execution_count": null,
      "outputs": []
    }
  ]
}